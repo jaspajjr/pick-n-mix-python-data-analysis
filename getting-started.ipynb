{
 "cells": [
  {
   "cell_type": "code",
   "execution_count": 5,
   "metadata": {},
   "outputs": [],
   "source": [
    "import pandas as pd\n",
    "import matplotlib.pyplot as plt\n",
    "\n",
    "%matplotlib inline"
   ]
  },
  {
   "cell_type": "markdown",
   "metadata": {},
   "source": [
    "## Let's load our dataset\n",
    "\n",
    "The `read_csv` method from pandas is our friend here, it keeps things nice and simple, it can be configurable for lot's of options, but the default settings work for us here. The one argument we specify is the URL where the file is hosted. You could visit this URL, download the CSV, and explore it in Excel if you want.\n",
    "\n",
    "[pandas read_csv documentation](https://pandas.pydata.org/pandas-docs/stable/reference/api/pandas.read_csv.html)"
   ]
  },
  {
   "cell_type": "code",
   "execution_count": 4,
   "metadata": {},
   "outputs": [
    {
     "name": "stdout",
     "output_type": "stream",
     "text": [
      "<class 'pandas.core.frame.DataFrame'>\n",
      "RangeIndex: 32844 entries, 0 to 32843\n",
      "Data columns (total 6 columns):\n",
      " #   Column                                      Non-Null Count  Dtype \n",
      "---  ------                                      --------------  ----- \n",
      " 0   LSOA code (2011)                            32844 non-null  object\n",
      " 1   LSOA name (2011)                            32844 non-null  object\n",
      " 2   Local Authority District code (2019)        32844 non-null  object\n",
      " 3   Local Authority District name (2019)        32844 non-null  object\n",
      " 4   Index of Multiple Deprivation (IMD) Rank    32844 non-null  int64 \n",
      " 5   Index of Multiple Deprivation (IMD) Decile  32844 non-null  int64 \n",
      "dtypes: int64(2), object(4)\n",
      "memory usage: 1.5+ MB\n",
      "None\n"
     ]
    },
    {
     "data": {
      "text/html": [
       "<div>\n",
       "<style scoped>\n",
       "    .dataframe tbody tr th:only-of-type {\n",
       "        vertical-align: middle;\n",
       "    }\n",
       "\n",
       "    .dataframe tbody tr th {\n",
       "        vertical-align: top;\n",
       "    }\n",
       "\n",
       "    .dataframe thead th {\n",
       "        text-align: right;\n",
       "    }\n",
       "</style>\n",
       "<table border=\"1\" class=\"dataframe\">\n",
       "  <thead>\n",
       "    <tr style=\"text-align: right;\">\n",
       "      <th></th>\n",
       "      <th>LSOA code (2011)</th>\n",
       "      <th>LSOA name (2011)</th>\n",
       "      <th>Local Authority District code (2019)</th>\n",
       "      <th>Local Authority District name (2019)</th>\n",
       "      <th>Index of Multiple Deprivation (IMD) Rank</th>\n",
       "      <th>Index of Multiple Deprivation (IMD) Decile</th>\n",
       "    </tr>\n",
       "  </thead>\n",
       "  <tbody>\n",
       "    <tr>\n",
       "      <th>0</th>\n",
       "      <td>E01000001</td>\n",
       "      <td>City of London 001A</td>\n",
       "      <td>E09000001</td>\n",
       "      <td>City of London</td>\n",
       "      <td>29199</td>\n",
       "      <td>9</td>\n",
       "    </tr>\n",
       "    <tr>\n",
       "      <th>1</th>\n",
       "      <td>E01000002</td>\n",
       "      <td>City of London 001B</td>\n",
       "      <td>E09000001</td>\n",
       "      <td>City of London</td>\n",
       "      <td>30379</td>\n",
       "      <td>10</td>\n",
       "    </tr>\n",
       "    <tr>\n",
       "      <th>2</th>\n",
       "      <td>E01000003</td>\n",
       "      <td>City of London 001C</td>\n",
       "      <td>E09000001</td>\n",
       "      <td>City of London</td>\n",
       "      <td>14915</td>\n",
       "      <td>5</td>\n",
       "    </tr>\n",
       "    <tr>\n",
       "      <th>3</th>\n",
       "      <td>E01000005</td>\n",
       "      <td>City of London 001E</td>\n",
       "      <td>E09000001</td>\n",
       "      <td>City of London</td>\n",
       "      <td>8678</td>\n",
       "      <td>3</td>\n",
       "    </tr>\n",
       "    <tr>\n",
       "      <th>4</th>\n",
       "      <td>E01000006</td>\n",
       "      <td>Barking and Dagenham 016A</td>\n",
       "      <td>E09000002</td>\n",
       "      <td>Barking and Dagenham</td>\n",
       "      <td>14486</td>\n",
       "      <td>5</td>\n",
       "    </tr>\n",
       "  </tbody>\n",
       "</table>\n",
       "</div>"
      ],
      "text/plain": [
       "  LSOA code (2011)           LSOA name (2011)  \\\n",
       "0        E01000001        City of London 001A   \n",
       "1        E01000002        City of London 001B   \n",
       "2        E01000003        City of London 001C   \n",
       "3        E01000005        City of London 001E   \n",
       "4        E01000006  Barking and Dagenham 016A   \n",
       "\n",
       "  Local Authority District code (2019) Local Authority District name (2019)  \\\n",
       "0                            E09000001                       City of London   \n",
       "1                            E09000001                       City of London   \n",
       "2                            E09000001                       City of London   \n",
       "3                            E09000001                       City of London   \n",
       "4                            E09000002                 Barking and Dagenham   \n",
       "\n",
       "   Index of Multiple Deprivation (IMD) Rank  \\\n",
       "0                                     29199   \n",
       "1                                     30379   \n",
       "2                                     14915   \n",
       "3                                      8678   \n",
       "4                                     14486   \n",
       "\n",
       "   Index of Multiple Deprivation (IMD) Decile  \n",
       "0                                           9  \n",
       "1                                          10  \n",
       "2                                           5  \n",
       "3                                           3  \n",
       "4                                           5  "
      ]
     },
     "execution_count": 4,
     "metadata": {},
     "output_type": "execute_result"
    }
   ],
   "source": [
    "df = pd.read_csv('https://storage.googleapis.com/pick-n-mix-1/convertcsv.csv')\n",
    "\n",
    "print(df.info())\n",
    "\n",
    "df.head()"
   ]
  },
  {
   "cell_type": "markdown",
   "metadata": {},
   "source": [
    "## Validation\n",
    "\n",
    "Let's make sure that the data meets some of our expectations. The `Index of Multiple Deprivation (IMD) Rank` column is ranking, therefore no two LSOA locations should have the same ranking. Let's check if that assumption holds true?"
   ]
  },
  {
   "cell_type": "code",
   "execution_count": null,
   "metadata": {},
   "outputs": [],
   "source": [
    "s"
   ]
  },
  {
   "cell_type": "markdown",
   "metadata": {},
   "source": [
    "## Filtering"
   ]
  },
  {
   "cell_type": "markdown",
   "metadata": {},
   "source": [
    "## Simple Transformation"
   ]
  }
 ],
 "metadata": {
  "kernelspec": {
   "display_name": "Python 3",
   "language": "python",
   "name": "python3"
  },
  "language_info": {
   "codemirror_mode": {
    "name": "ipython",
    "version": 3
   },
   "file_extension": ".py",
   "mimetype": "text/x-python",
   "name": "python",
   "nbconvert_exporter": "python",
   "pygments_lexer": "ipython3",
   "version": "3.7.5"
  }
 },
 "nbformat": 4,
 "nbformat_minor": 4
}
